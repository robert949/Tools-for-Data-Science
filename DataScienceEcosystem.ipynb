{
 "cells": [
  {
   "cell_type": "markdown",
   "id": "9a644f3f-1d19-4a24-80e3-3c2d16e6969a",
   "metadata": {},
   "source": [
    "# Data Science Tools and Ecosystem"
   ]
  },
  {
   "cell_type": "markdown",
   "id": "661023cd-9a7c-4792-8a6c-8b0a8f78d3af",
   "metadata": {},
   "source": [
    "In this notebook, Data Science Tools and Ecosystem are summarized."
   ]
  },
  {
   "cell_type": "markdown",
   "id": "be5e2987-7239-4538-b49b-463b3931c2b0",
   "metadata": {},
   "source": [
    "**Objectives:**\n",
    "- List popular languages for Data Science\n",
    "- List commonly used libraries for Data Science\n",
    "- List popular open source tools for Data Science\n",
    "- Show simple arithmetic examples"
   ]
  },
  {
   "cell_type": "markdown",
   "id": "439cb3ab-b7df-4a8e-ac1a-7a124365695a",
   "metadata": {
    "tags": []
   },
   "source": [
    "Some of the popular languages that Data Scientists use are:\n",
    "1. Python\n",
    "2. R\n",
    "3. SQL\n",
    "4. Julia"
   ]
  },
  {
   "cell_type": "markdown",
   "id": "e065d9fc-11e8-4309-a4e3-6b6e21d2213a",
   "metadata": {},
   "source": [
    "Some of the commonly used libraries used by Data Scientists include:\n",
    "1. Pandas\n",
    "2. Scikit-learn\n",
    "3. Tensorflow\n",
    "4. NumPy"
   ]
  },
  {
   "cell_type": "markdown",
   "id": "70180e72-e639-4f21-ae54-eff5d6e5e210",
   "metadata": {},
   "source": [
    "|Data Science Tools|\n",
    "|------------------|\n",
    "|     RStudio      |\n",
    "| Jupyter Notebooks|\n",
    "|      PyTorch     |"
   ]
  },
  {
   "cell_type": "markdown",
   "id": "5459956b-f3b5-4fa1-bc73-9ffe0a9d019e",
   "metadata": {},
   "source": [
    "### Below are a few examples of evaluating arithmetic expressions in Python."
   ]
  },
  {
   "cell_type": "code",
   "execution_count": 6,
   "id": "f39dc983-d429-4780-a6d7-ab3404e33ac3",
   "metadata": {
    "tags": []
   },
   "outputs": [
    {
     "data": {
      "text/plain": [
       "17"
      ]
     },
     "execution_count": 6,
     "metadata": {},
     "output_type": "execute_result"
    }
   ],
   "source": [
    "# This is a simple arithmetic expression to multiply then add integers.\n",
    "(3*4)+5"
   ]
  },
  {
   "cell_type": "code",
   "execution_count": 7,
   "id": "2ad68cbc-bdfa-4a2d-8a4f-f3af82986ec2",
   "metadata": {
    "tags": []
   },
   "outputs": [
    {
     "data": {
      "text/plain": [
       "3.3333333333333335"
      ]
     },
     "execution_count": 7,
     "metadata": {},
     "output_type": "execute_result"
    }
   ],
   "source": [
    "# This will convert 200 minutes into hours by dividing by 60.\n",
    "200/60"
   ]
  },
  {
   "cell_type": "markdown",
   "id": "c25e99e0-df46-4d21-89ed-ef523c1cb52d",
   "metadata": {},
   "source": [
    "## Author\n",
    "Robert Smith"
   ]
  }
 ],
 "metadata": {
  "kernelspec": {
   "display_name": "Python",
   "language": "python",
   "name": "conda-env-python-py"
  },
  "language_info": {
   "codemirror_mode": {
    "name": "ipython",
    "version": 3
   },
   "file_extension": ".py",
   "mimetype": "text/x-python",
   "name": "python",
   "nbconvert_exporter": "python",
   "pygments_lexer": "ipython3",
   "version": "3.7.12"
  }
 },
 "nbformat": 4,
 "nbformat_minor": 5
}
